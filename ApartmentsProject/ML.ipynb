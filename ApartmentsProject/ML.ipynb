{
  "cells": [
    {
      "cell_type": "code",
      "execution_count": null,
      "metadata": {
        "id": "IePk0AozSpQ-"
      },
      "outputs": [],
      "source": [
        "import numpy as np\n",
        "import pandas as pd\n",
        "import matplotlib.pyplot as plt\n",
        "from sklearn.model_selection import train_test_split"
      ]
    },
    {
      "cell_type": "code",
      "source": [
        "df = pd.read_csv('https://query.data.world/s/vha3wyujw2famdzxa46zpep5gwdtym')"
      ],
      "metadata": {
        "id": "WQabB4stjkX4"
      },
      "execution_count": null,
      "outputs": []
    },
    {
      "cell_type": "code",
      "source": [
        "df"
      ],
      "metadata": {
        "colab": {
          "base_uri": "https://localhost:8080/",
          "height": 424
        },
        "id": "aK78y-qbyeJ2",
        "outputId": "a2ca405c-4d12-4b33-a5b9-999dedf988b4"
      },
      "execution_count": null,
      "outputs": [
        {
          "output_type": "execute_result",
          "data": {
            "text/plain": [
              "        Unnamed: 0        date    price  level  levels  rooms   area  \\\n",
              "0         10501941  2021-12-01  5230000      1      20      3   78.0   \n",
              "1         10501942  2021-12-01  3900000     10      15     -1   30.0   \n",
              "2         10501943  2021-12-01  4100000      3      15      1   39.4   \n",
              "3         10501944  2021-12-01  1300000      1       1      3  110.0   \n",
              "4         10501945  2021-12-01  3500000      3       4      2   41.1   \n",
              "...            ...         ...      ...    ...     ...    ...    ...   \n",
              "856203    11358144  2021-12-31  6350000      3       5      3   85.0   \n",
              "856204    11358145  2021-12-31  6099000      4       9      3   65.0   \n",
              "856205    11358146  2021-12-31  2490000      1      10      2   56.9   \n",
              "856206    11358147  2021-12-31   850000      2       2      2   37.0   \n",
              "856207    11358148  2021-12-31  4360000      5       5      1   36.0   \n",
              "\n",
              "        kitchen_area    geo_lat     geo_lon  building_type  object_type  \\\n",
              "0               30.0  55.023693   82.850766              0            0   \n",
              "1                5.5  55.754272   38.057261              0            0   \n",
              "2               13.0  57.152974   65.534410              2            2   \n",
              "3                9.0  55.745676   37.673825              0            0   \n",
              "4                5.6  52.354946  104.219960              0            0   \n",
              "...              ...        ...         ...            ...          ...   \n",
              "856203          12.0  53.331843   83.783791              0            0   \n",
              "856204           0.0  56.041539   92.753133              0            0   \n",
              "856205           0.0  55.169949   61.519210              0            0   \n",
              "856206           5.0  55.946206   43.088179              0            0   \n",
              "856207           9.0  61.256383   73.435919              0            0   \n",
              "\n",
              "        postal_code  street_id  id_region   house_id  \n",
              "0          630036.0   195854.0         54   794474.0  \n",
              "1          143921.0   301466.0         50  2272232.0  \n",
              "2          625033.0   239624.0         72  2285569.0  \n",
              "3          109544.0        NaN         22        NaN  \n",
              "4          664020.0        NaN         38        NaN  \n",
              "...             ...        ...        ...        ...  \n",
              "856203     656043.0        NaN         22        NaN  \n",
              "856204     660030.0   581436.0         24   857003.0  \n",
              "856205     454079.0   274414.0         74  1820769.0  \n",
              "856206     606101.0   190983.0         52   958329.0  \n",
              "856207     628406.0   581702.0         86  2156710.0  \n",
              "\n",
              "[856208 rows x 16 columns]"
            ],
            "text/html": [
              "\n",
              "  <div id=\"df-6645411f-f957-42c8-b39b-8568ef8fa56b\">\n",
              "    <div class=\"colab-df-container\">\n",
              "      <div>\n",
              "<style scoped>\n",
              "    .dataframe tbody tr th:only-of-type {\n",
              "        vertical-align: middle;\n",
              "    }\n",
              "\n",
              "    .dataframe tbody tr th {\n",
              "        vertical-align: top;\n",
              "    }\n",
              "\n",
              "    .dataframe thead th {\n",
              "        text-align: right;\n",
              "    }\n",
              "</style>\n",
              "<table border=\"1\" class=\"dataframe\">\n",
              "  <thead>\n",
              "    <tr style=\"text-align: right;\">\n",
              "      <th></th>\n",
              "      <th>Unnamed: 0</th>\n",
              "      <th>date</th>\n",
              "      <th>price</th>\n",
              "      <th>level</th>\n",
              "      <th>levels</th>\n",
              "      <th>rooms</th>\n",
              "      <th>area</th>\n",
              "      <th>kitchen_area</th>\n",
              "      <th>geo_lat</th>\n",
              "      <th>geo_lon</th>\n",
              "      <th>building_type</th>\n",
              "      <th>object_type</th>\n",
              "      <th>postal_code</th>\n",
              "      <th>street_id</th>\n",
              "      <th>id_region</th>\n",
              "      <th>house_id</th>\n",
              "    </tr>\n",
              "  </thead>\n",
              "  <tbody>\n",
              "    <tr>\n",
              "      <th>0</th>\n",
              "      <td>10501941</td>\n",
              "      <td>2021-12-01</td>\n",
              "      <td>5230000</td>\n",
              "      <td>1</td>\n",
              "      <td>20</td>\n",
              "      <td>3</td>\n",
              "      <td>78.0</td>\n",
              "      <td>30.0</td>\n",
              "      <td>55.023693</td>\n",
              "      <td>82.850766</td>\n",
              "      <td>0</td>\n",
              "      <td>0</td>\n",
              "      <td>630036.0</td>\n",
              "      <td>195854.0</td>\n",
              "      <td>54</td>\n",
              "      <td>794474.0</td>\n",
              "    </tr>\n",
              "    <tr>\n",
              "      <th>1</th>\n",
              "      <td>10501942</td>\n",
              "      <td>2021-12-01</td>\n",
              "      <td>3900000</td>\n",
              "      <td>10</td>\n",
              "      <td>15</td>\n",
              "      <td>-1</td>\n",
              "      <td>30.0</td>\n",
              "      <td>5.5</td>\n",
              "      <td>55.754272</td>\n",
              "      <td>38.057261</td>\n",
              "      <td>0</td>\n",
              "      <td>0</td>\n",
              "      <td>143921.0</td>\n",
              "      <td>301466.0</td>\n",
              "      <td>50</td>\n",
              "      <td>2272232.0</td>\n",
              "    </tr>\n",
              "    <tr>\n",
              "      <th>2</th>\n",
              "      <td>10501943</td>\n",
              "      <td>2021-12-01</td>\n",
              "      <td>4100000</td>\n",
              "      <td>3</td>\n",
              "      <td>15</td>\n",
              "      <td>1</td>\n",
              "      <td>39.4</td>\n",
              "      <td>13.0</td>\n",
              "      <td>57.152974</td>\n",
              "      <td>65.534410</td>\n",
              "      <td>2</td>\n",
              "      <td>2</td>\n",
              "      <td>625033.0</td>\n",
              "      <td>239624.0</td>\n",
              "      <td>72</td>\n",
              "      <td>2285569.0</td>\n",
              "    </tr>\n",
              "    <tr>\n",
              "      <th>3</th>\n",
              "      <td>10501944</td>\n",
              "      <td>2021-12-01</td>\n",
              "      <td>1300000</td>\n",
              "      <td>1</td>\n",
              "      <td>1</td>\n",
              "      <td>3</td>\n",
              "      <td>110.0</td>\n",
              "      <td>9.0</td>\n",
              "      <td>55.745676</td>\n",
              "      <td>37.673825</td>\n",
              "      <td>0</td>\n",
              "      <td>0</td>\n",
              "      <td>109544.0</td>\n",
              "      <td>NaN</td>\n",
              "      <td>22</td>\n",
              "      <td>NaN</td>\n",
              "    </tr>\n",
              "    <tr>\n",
              "      <th>4</th>\n",
              "      <td>10501945</td>\n",
              "      <td>2021-12-01</td>\n",
              "      <td>3500000</td>\n",
              "      <td>3</td>\n",
              "      <td>4</td>\n",
              "      <td>2</td>\n",
              "      <td>41.1</td>\n",
              "      <td>5.6</td>\n",
              "      <td>52.354946</td>\n",
              "      <td>104.219960</td>\n",
              "      <td>0</td>\n",
              "      <td>0</td>\n",
              "      <td>664020.0</td>\n",
              "      <td>NaN</td>\n",
              "      <td>38</td>\n",
              "      <td>NaN</td>\n",
              "    </tr>\n",
              "    <tr>\n",
              "      <th>...</th>\n",
              "      <td>...</td>\n",
              "      <td>...</td>\n",
              "      <td>...</td>\n",
              "      <td>...</td>\n",
              "      <td>...</td>\n",
              "      <td>...</td>\n",
              "      <td>...</td>\n",
              "      <td>...</td>\n",
              "      <td>...</td>\n",
              "      <td>...</td>\n",
              "      <td>...</td>\n",
              "      <td>...</td>\n",
              "      <td>...</td>\n",
              "      <td>...</td>\n",
              "      <td>...</td>\n",
              "      <td>...</td>\n",
              "    </tr>\n",
              "    <tr>\n",
              "      <th>856203</th>\n",
              "      <td>11358144</td>\n",
              "      <td>2021-12-31</td>\n",
              "      <td>6350000</td>\n",
              "      <td>3</td>\n",
              "      <td>5</td>\n",
              "      <td>3</td>\n",
              "      <td>85.0</td>\n",
              "      <td>12.0</td>\n",
              "      <td>53.331843</td>\n",
              "      <td>83.783791</td>\n",
              "      <td>0</td>\n",
              "      <td>0</td>\n",
              "      <td>656043.0</td>\n",
              "      <td>NaN</td>\n",
              "      <td>22</td>\n",
              "      <td>NaN</td>\n",
              "    </tr>\n",
              "    <tr>\n",
              "      <th>856204</th>\n",
              "      <td>11358145</td>\n",
              "      <td>2021-12-31</td>\n",
              "      <td>6099000</td>\n",
              "      <td>4</td>\n",
              "      <td>9</td>\n",
              "      <td>3</td>\n",
              "      <td>65.0</td>\n",
              "      <td>0.0</td>\n",
              "      <td>56.041539</td>\n",
              "      <td>92.753133</td>\n",
              "      <td>0</td>\n",
              "      <td>0</td>\n",
              "      <td>660030.0</td>\n",
              "      <td>581436.0</td>\n",
              "      <td>24</td>\n",
              "      <td>857003.0</td>\n",
              "    </tr>\n",
              "    <tr>\n",
              "      <th>856205</th>\n",
              "      <td>11358146</td>\n",
              "      <td>2021-12-31</td>\n",
              "      <td>2490000</td>\n",
              "      <td>1</td>\n",
              "      <td>10</td>\n",
              "      <td>2</td>\n",
              "      <td>56.9</td>\n",
              "      <td>0.0</td>\n",
              "      <td>55.169949</td>\n",
              "      <td>61.519210</td>\n",
              "      <td>0</td>\n",
              "      <td>0</td>\n",
              "      <td>454079.0</td>\n",
              "      <td>274414.0</td>\n",
              "      <td>74</td>\n",
              "      <td>1820769.0</td>\n",
              "    </tr>\n",
              "    <tr>\n",
              "      <th>856206</th>\n",
              "      <td>11358147</td>\n",
              "      <td>2021-12-31</td>\n",
              "      <td>850000</td>\n",
              "      <td>2</td>\n",
              "      <td>2</td>\n",
              "      <td>2</td>\n",
              "      <td>37.0</td>\n",
              "      <td>5.0</td>\n",
              "      <td>55.946206</td>\n",
              "      <td>43.088179</td>\n",
              "      <td>0</td>\n",
              "      <td>0</td>\n",
              "      <td>606101.0</td>\n",
              "      <td>190983.0</td>\n",
              "      <td>52</td>\n",
              "      <td>958329.0</td>\n",
              "    </tr>\n",
              "    <tr>\n",
              "      <th>856207</th>\n",
              "      <td>11358148</td>\n",
              "      <td>2021-12-31</td>\n",
              "      <td>4360000</td>\n",
              "      <td>5</td>\n",
              "      <td>5</td>\n",
              "      <td>1</td>\n",
              "      <td>36.0</td>\n",
              "      <td>9.0</td>\n",
              "      <td>61.256383</td>\n",
              "      <td>73.435919</td>\n",
              "      <td>0</td>\n",
              "      <td>0</td>\n",
              "      <td>628406.0</td>\n",
              "      <td>581702.0</td>\n",
              "      <td>86</td>\n",
              "      <td>2156710.0</td>\n",
              "    </tr>\n",
              "  </tbody>\n",
              "</table>\n",
              "<p>856208 rows × 16 columns</p>\n",
              "</div>\n",
              "      <button class=\"colab-df-convert\" onclick=\"convertToInteractive('df-6645411f-f957-42c8-b39b-8568ef8fa56b')\"\n",
              "              title=\"Convert this dataframe to an interactive table.\"\n",
              "              style=\"display:none;\">\n",
              "        \n",
              "  <svg xmlns=\"http://www.w3.org/2000/svg\" height=\"24px\"viewBox=\"0 0 24 24\"\n",
              "       width=\"24px\">\n",
              "    <path d=\"M0 0h24v24H0V0z\" fill=\"none\"/>\n",
              "    <path d=\"M18.56 5.44l.94 2.06.94-2.06 2.06-.94-2.06-.94-.94-2.06-.94 2.06-2.06.94zm-11 1L8.5 8.5l.94-2.06 2.06-.94-2.06-.94L8.5 2.5l-.94 2.06-2.06.94zm10 10l.94 2.06.94-2.06 2.06-.94-2.06-.94-.94-2.06-.94 2.06-2.06.94z\"/><path d=\"M17.41 7.96l-1.37-1.37c-.4-.4-.92-.59-1.43-.59-.52 0-1.04.2-1.43.59L10.3 9.45l-7.72 7.72c-.78.78-.78 2.05 0 2.83L4 21.41c.39.39.9.59 1.41.59.51 0 1.02-.2 1.41-.59l7.78-7.78 2.81-2.81c.8-.78.8-2.07 0-2.86zM5.41 20L4 18.59l7.72-7.72 1.47 1.35L5.41 20z\"/>\n",
              "  </svg>\n",
              "      </button>\n",
              "      \n",
              "  <style>\n",
              "    .colab-df-container {\n",
              "      display:flex;\n",
              "      flex-wrap:wrap;\n",
              "      gap: 12px;\n",
              "    }\n",
              "\n",
              "    .colab-df-convert {\n",
              "      background-color: #E8F0FE;\n",
              "      border: none;\n",
              "      border-radius: 50%;\n",
              "      cursor: pointer;\n",
              "      display: none;\n",
              "      fill: #1967D2;\n",
              "      height: 32px;\n",
              "      padding: 0 0 0 0;\n",
              "      width: 32px;\n",
              "    }\n",
              "\n",
              "    .colab-df-convert:hover {\n",
              "      background-color: #E2EBFA;\n",
              "      box-shadow: 0px 1px 2px rgba(60, 64, 67, 0.3), 0px 1px 3px 1px rgba(60, 64, 67, 0.15);\n",
              "      fill: #174EA6;\n",
              "    }\n",
              "\n",
              "    [theme=dark] .colab-df-convert {\n",
              "      background-color: #3B4455;\n",
              "      fill: #D2E3FC;\n",
              "    }\n",
              "\n",
              "    [theme=dark] .colab-df-convert:hover {\n",
              "      background-color: #434B5C;\n",
              "      box-shadow: 0px 1px 3px 1px rgba(0, 0, 0, 0.15);\n",
              "      filter: drop-shadow(0px 1px 2px rgba(0, 0, 0, 0.3));\n",
              "      fill: #FFFFFF;\n",
              "    }\n",
              "  </style>\n",
              "\n",
              "      <script>\n",
              "        const buttonEl =\n",
              "          document.querySelector('#df-6645411f-f957-42c8-b39b-8568ef8fa56b button.colab-df-convert');\n",
              "        buttonEl.style.display =\n",
              "          google.colab.kernel.accessAllowed ? 'block' : 'none';\n",
              "\n",
              "        async function convertToInteractive(key) {\n",
              "          const element = document.querySelector('#df-6645411f-f957-42c8-b39b-8568ef8fa56b');\n",
              "          const dataTable =\n",
              "            await google.colab.kernel.invokeFunction('convertToInteractive',\n",
              "                                                     [key], {});\n",
              "          if (!dataTable) return;\n",
              "\n",
              "          const docLinkHtml = 'Like what you see? Visit the ' +\n",
              "            '<a target=\"_blank\" href=https://colab.research.google.com/notebooks/data_table.ipynb>data table notebook</a>'\n",
              "            + ' to learn more about interactive tables.';\n",
              "          element.innerHTML = '';\n",
              "          dataTable['output_type'] = 'display_data';\n",
              "          await google.colab.output.renderOutput(dataTable, element);\n",
              "          const docLink = document.createElement('div');\n",
              "          docLink.innerHTML = docLinkHtml;\n",
              "          element.appendChild(docLink);\n",
              "        }\n",
              "      </script>\n",
              "    </div>\n",
              "  </div>\n",
              "  "
            ]
          },
          "metadata": {},
          "execution_count": 23
        }
      ]
    },
    {
      "cell_type": "code",
      "source": [
        "df.info()"
      ],
      "metadata": {
        "colab": {
          "base_uri": "https://localhost:8080/"
        },
        "id": "1ELlarNOJUdg",
        "outputId": "4a0843f5-8db9-460d-a019-63e6f9ca7427"
      },
      "execution_count": null,
      "outputs": [
        {
          "output_type": "stream",
          "name": "stdout",
          "text": [
            "<class 'pandas.core.frame.DataFrame'>\n",
            "RangeIndex: 856208 entries, 0 to 856207\n",
            "Data columns (total 16 columns):\n",
            " #   Column         Non-Null Count   Dtype  \n",
            "---  ------         --------------   -----  \n",
            " 0   Unnamed: 0     856208 non-null  int64  \n",
            " 1   date           856208 non-null  object \n",
            " 2   price          856208 non-null  int64  \n",
            " 3   level          856208 non-null  int64  \n",
            " 4   levels         856208 non-null  int64  \n",
            " 5   rooms          856208 non-null  int64  \n",
            " 6   area           856208 non-null  float64\n",
            " 7   kitchen_area   856208 non-null  float64\n",
            " 8   geo_lat        856208 non-null  float64\n",
            " 9   geo_lon        856208 non-null  float64\n",
            " 10  building_type  856208 non-null  int64  \n",
            " 11  object_type    856208 non-null  int64  \n",
            " 12  postal_code    815721 non-null  float64\n",
            " 13  street_id      495512 non-null  float64\n",
            " 14  id_region      856208 non-null  int64  \n",
            " 15  house_id       562625 non-null  float64\n",
            "dtypes: float64(7), int64(8), object(1)\n",
            "memory usage: 104.5+ MB\n"
          ]
        }
      ]
    },
    {
      "cell_type": "code",
      "source": [
        "kazan = df[(df['id_region'] == 16) & (df['postal_code'] >= 420000) & (df['postal_code'] < 421000)]"
      ],
      "metadata": {
        "id": "96mZR5LNmsIU"
      },
      "execution_count": null,
      "outputs": []
    },
    {
      "cell_type": "code",
      "source": [
        "kazan = kazan.drop(['Unnamed: 0', 'date', 'geo_lat', 'geo_lon', 'house_id', 'building_type', 'street_id', 'id_region'], axis = 1)"
      ],
      "metadata": {
        "id": "tVfFCvb3DsNw"
      },
      "execution_count": null,
      "outputs": []
    },
    {
      "cell_type": "code",
      "source": [
        "kazan"
      ],
      "metadata": {
        "colab": {
          "base_uri": "https://localhost:8080/",
          "height": 424
        },
        "id": "41_RoPsvfnbO",
        "outputId": "ce4224fd-ee62-46c9-b270-c82b395a042d"
      },
      "execution_count": null,
      "outputs": [
        {
          "output_type": "execute_result",
          "data": {
            "text/plain": [
              "          price  level  levels  rooms    area  kitchen_area  object_type  \\\n",
              "10      2470000      1       9     -1   18.00        -100.0            0   \n",
              "11      2130000      1       9     -1  118.00        -100.0            0   \n",
              "251     2500000      2       5      1   19.00           2.0            0   \n",
              "252     2500000      3       3      1   20.80           4.2            0   \n",
              "453     6700000      5      24      2   54.00        -100.0            2   \n",
              "...         ...    ...     ...    ...     ...           ...          ...   \n",
              "855702  9504342      3      10      3   73.62           0.0            2   \n",
              "855864  7553000      1      17      2   46.27           0.0            2   \n",
              "856095  4300000      3       5      2   45.60           6.1            0   \n",
              "856183  4269999      4      19      1   37.50          10.6            0   \n",
              "856198  6100000     10      10      3   68.30           9.5            0   \n",
              "\n",
              "        postal_code  \n",
              "10         420126.0  \n",
              "11         420126.0  \n",
              "251        420032.0  \n",
              "252        420005.0  \n",
              "453        420087.0  \n",
              "...             ...  \n",
              "855702     420108.0  \n",
              "855864     420083.0  \n",
              "856095     420073.0  \n",
              "856183     420076.0  \n",
              "856198     420100.0  \n",
              "\n",
              "[12036 rows x 8 columns]"
            ],
            "text/html": [
              "\n",
              "  <div id=\"df-13fe7257-064b-4769-980c-5624d69fcc53\">\n",
              "    <div class=\"colab-df-container\">\n",
              "      <div>\n",
              "<style scoped>\n",
              "    .dataframe tbody tr th:only-of-type {\n",
              "        vertical-align: middle;\n",
              "    }\n",
              "\n",
              "    .dataframe tbody tr th {\n",
              "        vertical-align: top;\n",
              "    }\n",
              "\n",
              "    .dataframe thead th {\n",
              "        text-align: right;\n",
              "    }\n",
              "</style>\n",
              "<table border=\"1\" class=\"dataframe\">\n",
              "  <thead>\n",
              "    <tr style=\"text-align: right;\">\n",
              "      <th></th>\n",
              "      <th>price</th>\n",
              "      <th>level</th>\n",
              "      <th>levels</th>\n",
              "      <th>rooms</th>\n",
              "      <th>area</th>\n",
              "      <th>kitchen_area</th>\n",
              "      <th>object_type</th>\n",
              "      <th>postal_code</th>\n",
              "    </tr>\n",
              "  </thead>\n",
              "  <tbody>\n",
              "    <tr>\n",
              "      <th>10</th>\n",
              "      <td>2470000</td>\n",
              "      <td>1</td>\n",
              "      <td>9</td>\n",
              "      <td>-1</td>\n",
              "      <td>18.00</td>\n",
              "      <td>-100.0</td>\n",
              "      <td>0</td>\n",
              "      <td>420126.0</td>\n",
              "    </tr>\n",
              "    <tr>\n",
              "      <th>11</th>\n",
              "      <td>2130000</td>\n",
              "      <td>1</td>\n",
              "      <td>9</td>\n",
              "      <td>-1</td>\n",
              "      <td>118.00</td>\n",
              "      <td>-100.0</td>\n",
              "      <td>0</td>\n",
              "      <td>420126.0</td>\n",
              "    </tr>\n",
              "    <tr>\n",
              "      <th>251</th>\n",
              "      <td>2500000</td>\n",
              "      <td>2</td>\n",
              "      <td>5</td>\n",
              "      <td>1</td>\n",
              "      <td>19.00</td>\n",
              "      <td>2.0</td>\n",
              "      <td>0</td>\n",
              "      <td>420032.0</td>\n",
              "    </tr>\n",
              "    <tr>\n",
              "      <th>252</th>\n",
              "      <td>2500000</td>\n",
              "      <td>3</td>\n",
              "      <td>3</td>\n",
              "      <td>1</td>\n",
              "      <td>20.80</td>\n",
              "      <td>4.2</td>\n",
              "      <td>0</td>\n",
              "      <td>420005.0</td>\n",
              "    </tr>\n",
              "    <tr>\n",
              "      <th>453</th>\n",
              "      <td>6700000</td>\n",
              "      <td>5</td>\n",
              "      <td>24</td>\n",
              "      <td>2</td>\n",
              "      <td>54.00</td>\n",
              "      <td>-100.0</td>\n",
              "      <td>2</td>\n",
              "      <td>420087.0</td>\n",
              "    </tr>\n",
              "    <tr>\n",
              "      <th>...</th>\n",
              "      <td>...</td>\n",
              "      <td>...</td>\n",
              "      <td>...</td>\n",
              "      <td>...</td>\n",
              "      <td>...</td>\n",
              "      <td>...</td>\n",
              "      <td>...</td>\n",
              "      <td>...</td>\n",
              "    </tr>\n",
              "    <tr>\n",
              "      <th>855702</th>\n",
              "      <td>9504342</td>\n",
              "      <td>3</td>\n",
              "      <td>10</td>\n",
              "      <td>3</td>\n",
              "      <td>73.62</td>\n",
              "      <td>0.0</td>\n",
              "      <td>2</td>\n",
              "      <td>420108.0</td>\n",
              "    </tr>\n",
              "    <tr>\n",
              "      <th>855864</th>\n",
              "      <td>7553000</td>\n",
              "      <td>1</td>\n",
              "      <td>17</td>\n",
              "      <td>2</td>\n",
              "      <td>46.27</td>\n",
              "      <td>0.0</td>\n",
              "      <td>2</td>\n",
              "      <td>420083.0</td>\n",
              "    </tr>\n",
              "    <tr>\n",
              "      <th>856095</th>\n",
              "      <td>4300000</td>\n",
              "      <td>3</td>\n",
              "      <td>5</td>\n",
              "      <td>2</td>\n",
              "      <td>45.60</td>\n",
              "      <td>6.1</td>\n",
              "      <td>0</td>\n",
              "      <td>420073.0</td>\n",
              "    </tr>\n",
              "    <tr>\n",
              "      <th>856183</th>\n",
              "      <td>4269999</td>\n",
              "      <td>4</td>\n",
              "      <td>19</td>\n",
              "      <td>1</td>\n",
              "      <td>37.50</td>\n",
              "      <td>10.6</td>\n",
              "      <td>0</td>\n",
              "      <td>420076.0</td>\n",
              "    </tr>\n",
              "    <tr>\n",
              "      <th>856198</th>\n",
              "      <td>6100000</td>\n",
              "      <td>10</td>\n",
              "      <td>10</td>\n",
              "      <td>3</td>\n",
              "      <td>68.30</td>\n",
              "      <td>9.5</td>\n",
              "      <td>0</td>\n",
              "      <td>420100.0</td>\n",
              "    </tr>\n",
              "  </tbody>\n",
              "</table>\n",
              "<p>12036 rows × 8 columns</p>\n",
              "</div>\n",
              "      <button class=\"colab-df-convert\" onclick=\"convertToInteractive('df-13fe7257-064b-4769-980c-5624d69fcc53')\"\n",
              "              title=\"Convert this dataframe to an interactive table.\"\n",
              "              style=\"display:none;\">\n",
              "        \n",
              "  <svg xmlns=\"http://www.w3.org/2000/svg\" height=\"24px\"viewBox=\"0 0 24 24\"\n",
              "       width=\"24px\">\n",
              "    <path d=\"M0 0h24v24H0V0z\" fill=\"none\"/>\n",
              "    <path d=\"M18.56 5.44l.94 2.06.94-2.06 2.06-.94-2.06-.94-.94-2.06-.94 2.06-2.06.94zm-11 1L8.5 8.5l.94-2.06 2.06-.94-2.06-.94L8.5 2.5l-.94 2.06-2.06.94zm10 10l.94 2.06.94-2.06 2.06-.94-2.06-.94-.94-2.06-.94 2.06-2.06.94z\"/><path d=\"M17.41 7.96l-1.37-1.37c-.4-.4-.92-.59-1.43-.59-.52 0-1.04.2-1.43.59L10.3 9.45l-7.72 7.72c-.78.78-.78 2.05 0 2.83L4 21.41c.39.39.9.59 1.41.59.51 0 1.02-.2 1.41-.59l7.78-7.78 2.81-2.81c.8-.78.8-2.07 0-2.86zM5.41 20L4 18.59l7.72-7.72 1.47 1.35L5.41 20z\"/>\n",
              "  </svg>\n",
              "      </button>\n",
              "      \n",
              "  <style>\n",
              "    .colab-df-container {\n",
              "      display:flex;\n",
              "      flex-wrap:wrap;\n",
              "      gap: 12px;\n",
              "    }\n",
              "\n",
              "    .colab-df-convert {\n",
              "      background-color: #E8F0FE;\n",
              "      border: none;\n",
              "      border-radius: 50%;\n",
              "      cursor: pointer;\n",
              "      display: none;\n",
              "      fill: #1967D2;\n",
              "      height: 32px;\n",
              "      padding: 0 0 0 0;\n",
              "      width: 32px;\n",
              "    }\n",
              "\n",
              "    .colab-df-convert:hover {\n",
              "      background-color: #E2EBFA;\n",
              "      box-shadow: 0px 1px 2px rgba(60, 64, 67, 0.3), 0px 1px 3px 1px rgba(60, 64, 67, 0.15);\n",
              "      fill: #174EA6;\n",
              "    }\n",
              "\n",
              "    [theme=dark] .colab-df-convert {\n",
              "      background-color: #3B4455;\n",
              "      fill: #D2E3FC;\n",
              "    }\n",
              "\n",
              "    [theme=dark] .colab-df-convert:hover {\n",
              "      background-color: #434B5C;\n",
              "      box-shadow: 0px 1px 3px 1px rgba(0, 0, 0, 0.15);\n",
              "      filter: drop-shadow(0px 1px 2px rgba(0, 0, 0, 0.3));\n",
              "      fill: #FFFFFF;\n",
              "    }\n",
              "  </style>\n",
              "\n",
              "      <script>\n",
              "        const buttonEl =\n",
              "          document.querySelector('#df-13fe7257-064b-4769-980c-5624d69fcc53 button.colab-df-convert');\n",
              "        buttonEl.style.display =\n",
              "          google.colab.kernel.accessAllowed ? 'block' : 'none';\n",
              "\n",
              "        async function convertToInteractive(key) {\n",
              "          const element = document.querySelector('#df-13fe7257-064b-4769-980c-5624d69fcc53');\n",
              "          const dataTable =\n",
              "            await google.colab.kernel.invokeFunction('convertToInteractive',\n",
              "                                                     [key], {});\n",
              "          if (!dataTable) return;\n",
              "\n",
              "          const docLinkHtml = 'Like what you see? Visit the ' +\n",
              "            '<a target=\"_blank\" href=https://colab.research.google.com/notebooks/data_table.ipynb>data table notebook</a>'\n",
              "            + ' to learn more about interactive tables.';\n",
              "          element.innerHTML = '';\n",
              "          dataTable['output_type'] = 'display_data';\n",
              "          await google.colab.output.renderOutput(dataTable, element);\n",
              "          const docLink = document.createElement('div');\n",
              "          docLink.innerHTML = docLinkHtml;\n",
              "          element.appendChild(docLink);\n",
              "        }\n",
              "      </script>\n",
              "    </div>\n",
              "  </div>\n",
              "  "
            ]
          },
          "metadata": {},
          "execution_count": 27
        }
      ]
    },
    {
      "cell_type": "code",
      "source": [
        "kazan.info()"
      ],
      "metadata": {
        "colab": {
          "base_uri": "https://localhost:8080/"
        },
        "id": "eVj8aUvqjPpK",
        "outputId": "f1856928-84b2-45bf-a70f-994e7fd922f4"
      },
      "execution_count": null,
      "outputs": [
        {
          "output_type": "stream",
          "name": "stdout",
          "text": [
            "<class 'pandas.core.frame.DataFrame'>\n",
            "Int64Index: 12036 entries, 10 to 856198\n",
            "Data columns (total 8 columns):\n",
            " #   Column        Non-Null Count  Dtype  \n",
            "---  ------        --------------  -----  \n",
            " 0   price         12036 non-null  int64  \n",
            " 1   level         12036 non-null  int64  \n",
            " 2   levels        12036 non-null  int64  \n",
            " 3   rooms         12036 non-null  int64  \n",
            " 4   area          12036 non-null  float64\n",
            " 5   kitchen_area  12036 non-null  float64\n",
            " 6   object_type   12036 non-null  int64  \n",
            " 7   postal_code   12036 non-null  float64\n",
            "dtypes: float64(3), int64(5)\n",
            "memory usage: 846.3 KB\n"
          ]
        }
      ]
    },
    {
      "cell_type": "code",
      "source": [
        "kazan.corr()['price']"
      ],
      "metadata": {
        "id": "lY4gT3XuZgyj",
        "colab": {
          "base_uri": "https://localhost:8080/"
        },
        "outputId": "5c44d80e-d4b8-4a2c-c616-cfa53d364af9"
      },
      "execution_count": null,
      "outputs": [
        {
          "output_type": "execute_result",
          "data": {
            "text/plain": [
              "price           1.000000\n",
              "level           0.136756\n",
              "levels          0.170419\n",
              "rooms           0.482662\n",
              "area            0.762711\n",
              "kitchen_area    0.167074\n",
              "object_type     0.092777\n",
              "postal_code    -0.047847\n",
              "Name: price, dtype: float64"
            ]
          },
          "metadata": {},
          "execution_count": 29
        }
      ]
    },
    {
      "cell_type": "markdown",
      "source": [
        "# Визуализация"
      ],
      "metadata": {
        "id": "MuddKsh5NvWt"
      }
    },
    {
      "cell_type": "code",
      "source": [
        "plt.figure(figsize=(10, 6))\n",
        "plt.hist(kazan['price'], range=[0, 50000000], bins=50, color='#2196f3')\n",
        "plt.show()"
      ],
      "metadata": {
        "id": "NuEkLcVFe5Pv",
        "colab": {
          "base_uri": "https://localhost:8080/",
          "height": 540
        },
        "outputId": "d74ad198-6458-47d8-a9c6-45c86ab72c01"
      },
      "execution_count": null,
      "outputs": [
        {
          "output_type": "display_data",
          "data": {
            "text/plain": [
              "<Figure size 1000x600 with 1 Axes>"
            ],
            "image/png": "[encoded data removed]"
          },
          "metadata": {}
        }
      ]
    },
    {
      "cell_type": "code",
      "source": [
        "kazan = kazan[kazan['price'] < 14000000]"
      ],
      "metadata": {
        "id": "iLVH48dWt_Fw"
      },
      "execution_count": null,
      "outputs": []
    },
    {
      "cell_type": "code",
      "source": [
        "plt.figure(figsize=(10, 6))\n",
        "plt.hist(kazan['rooms'], bins=8, color='#2196f3')\n",
        "plt.show()"
      ],
      "metadata": {
        "id": "azmWOvoB2FJf",
        "colab": {
          "base_uri": "https://localhost:8080/",
          "height": 522
        },
        "outputId": "38378d02-a000-424f-9396-acfb84e45df5"
      },
      "execution_count": null,
      "outputs": [
        {
          "output_type": "display_data",
          "data": {
            "text/plain": [
              "<Figure size 1000x600 with 1 Axes>"
            ],
            "image/png": "[encoded data removed]"
          },
          "metadata": {}
        }
      ]
    },
    {
      "cell_type": "code",
      "source": [
        "plt.figure(figsize=(10, 6))\n",
        "plt.hist(kazan['area'], bins=50, color='#2196f3')\n",
        "plt.show()"
      ],
      "metadata": {
        "id": "l3vEg1jr82UV",
        "colab": {
          "base_uri": "https://localhost:8080/",
          "height": 522
        },
        "outputId": "e5596ccd-c262-4d15-b3dd-a700cfe8592b"
      },
      "execution_count": null,
      "outputs": [
        {
          "output_type": "display_data",
          "data": {
            "text/plain": [
              "<Figure size 1000x600 with 1 Axes>"
            ],
            "image/png": "[encoded data removed]"
          },
          "metadata": {}
        }
      ]
    },
    {
      "cell_type": "code",
      "source": [
        "kazan = kazan[kazan['area'] < 140]"
      ],
      "metadata": {
        "id": "mIv9jpWp192L"
      },
      "execution_count": null,
      "outputs": []
    },
    {
      "cell_type": "code",
      "source": [
        "plt.figure(figsize=(10, 6))\n",
        "plt.hist(kazan['level'], bins=40, color='#2196f3')\n",
        "plt.show()"
      ],
      "metadata": {
        "id": "Jy4xQ4qu9KAB",
        "colab": {
          "base_uri": "https://localhost:8080/",
          "height": 522
        },
        "outputId": "087a9373-9fc9-4ef2-c94c-e733afb92606"
      },
      "execution_count": null,
      "outputs": [
        {
          "output_type": "display_data",
          "data": {
            "text/plain": [
              "<Figure size 1000x600 with 1 Axes>"
            ],
            "image/png": "[encoded data removed]"
          },
          "metadata": {}
        }
      ]
    },
    {
      "cell_type": "markdown",
      "source": [
        "# Обучение"
      ],
      "metadata": {
        "id": "KqnRBwUCOF9m"
      }
    },
    {
      "cell_type": "code",
      "source": [
        "df = kazan.copy()"
      ],
      "metadata": {
        "id": "klmU2-DgCls-"
      },
      "execution_count": null,
      "outputs": []
    },
    {
      "cell_type": "code",
      "source": [
        "one_hot = pd.get_dummies(df['postal_code'])\n",
        "df = df.drop('postal_code', axis = 1)\n",
        "df = df.join(one_hot)\n",
        "df.shape"
      ],
      "metadata": {
        "id": "awaaQJk0Cp9B",
        "colab": {
          "base_uri": "https://localhost:8080/"
        },
        "outputId": "93ade4c1-ab60-435a-e3ff-e4405c934d8f"
      },
      "execution_count": null,
      "outputs": [
        {
          "output_type": "execute_result",
          "data": {
            "text/plain": [
              "(11634, 84)"
            ]
          },
          "metadata": {},
          "execution_count": 8
        }
      ]
    },
    {
      "cell_type": "code",
      "source": [
        "df.columns = df.columns.astype(str)"
      ],
      "metadata": {
        "id": "CYq4YKXhbfcv"
      },
      "execution_count": null,
      "outputs": []
    },
    {
      "cell_type": "code",
      "source": [
        "prices = df['price']\n",
        "features = df.drop('price', axis=1)\n",
        "\n",
        "X_train, X_test, Y_train, Y_test = train_test_split(features, prices, test_size=0.2, random_state=10)\n"
      ],
      "metadata": {
        "id": "3qdbgnXyMlwL"
      },
      "execution_count": null,
      "outputs": []
    },
    {
      "cell_type": "markdown",
      "source": [
        "### SVM"
      ],
      "metadata": {
        "id": "xxm2bexjzrP7"
      }
    },
    {
      "cell_type": "code",
      "source": [
        "from sklearn import svm\n",
        "from sklearn.svm import SVC\n",
        "from sklearn.metrics import mean_absolute_percentage_error"
      ],
      "metadata": {
        "id": "i-2rS59qzyZW"
      },
      "execution_count": null,
      "outputs": []
    },
    {
      "cell_type": "code",
      "source": [
        "model_SVR = svm.SVR()\n",
        "model_SVR.fit(X_train,Y_train)\n",
        "Y_pred = model_SVR.predict(X_test)\n",
        "\n",
        "\n",
        "print(f\"Training data r-squared: {model_SVR.score(X_train, Y_train)}\")\n",
        "print(f\"Test data r-squared: {model_SVR.score(X_test, Y_test)}\")"
      ],
      "metadata": {
        "colab": {
          "base_uri": "https://localhost:8080/"
        },
        "id": "h1LwHO6y0MqO",
        "outputId": "d9c41471-3185-41c6-df12-d8552fb45b18"
      },
      "execution_count": null,
      "outputs": [
        {
          "output_type": "stream",
          "name": "stdout",
          "text": [
            "Training data r-squared: -0.027375761812966415\n",
            "Test data r-squared: -0.02332509529748461\n"
          ]
        }
      ]
    },
    {
      "cell_type": "markdown",
      "source": [
        "### RandomForestRegressor"
      ],
      "metadata": {
        "id": "rfy4k6U64YzW"
      }
    },
    {
      "cell_type": "code",
      "source": [
        "from sklearn.ensemble import RandomForestRegressor\n",
        "\n",
        "model_RFR = RandomForestRegressor(n_estimators=10)\n",
        "model_RFR.fit(X_train, Y_train)"
      ],
      "metadata": {
        "id": "J5I6L7Dv4ZNy"
      },
      "execution_count": null,
      "outputs": []
    },
    {
      "cell_type": "code",
      "source": [
        "from sklearn.metrics import mean_squared_error, median_absolute_error, r2_score\n",
        "y_pred = list(model_RFR.predict(X_test))\n",
        "y_true = list(Y_test)\n",
        "RMSE = mean_squared_error(y_true, y_pred, squared=False)\n",
        "R2 = r2_score(y_true, y_pred)\n",
        "MAE = median_absolute_error(y_true, y_pred)"
      ],
      "metadata": {
        "id": "3SGXw8GvqEPd"
      },
      "execution_count": null,
      "outputs": []
    },
    {
      "cell_type": "code",
      "source": [
        "print(f\"R2: {R2}\")\n",
        "print(f\"MAE: {MAE}\")\n",
        "print(f\"RMSE: {RMSE}\")"
      ],
      "metadata": {
        "colab": {
          "base_uri": "https://localhost:8080/"
        },
        "id": "skM5ePQ7qWQk",
        "outputId": "ee100cc7-e04e-47cb-9ca0-7b8805cd576d"
      },
      "execution_count": null,
      "outputs": [
        {
          "output_type": "stream",
          "name": "stdout",
          "text": [
            "R2: 0.8354310178025535\n",
            "MAE: 293000.0\n",
            "RMSE: 929898.7777799002\n"
          ]
        }
      ]
    },
    {
      "cell_type": "markdown",
      "source": [
        "### Catboost"
      ],
      "metadata": {
        "id": "sBOPdCqn6aW4"
      }
    },
    {
      "cell_type": "code",
      "source": [
        "!pip install catboost"
      ],
      "metadata": {
        "id": "B92DOTLI6mvK"
      },
      "execution_count": null,
      "outputs": []
    },
    {
      "cell_type": "code",
      "source": [
        "from catboost import CatBoostRegressor\n",
        "cb_model = CatBoostRegressor(learning_rate=0.5, custom_metric=['RMSE', 'MAE', 'R2'])\n",
        "cb_model.fit(X_train, Y_train, eval_set=(X_test, Y_test))\n",
        "cb_model.save_model(\"model\")"
      ],
      "metadata": {
        "id": "-1arTpHy6atY"
      },
      "execution_count": null,
      "outputs": []
    },
    {
      "cell_type": "code",
      "source": [
        "print(f\"Training data r-squared: {cb_model.score(X_train, Y_train)}\")\n",
        "print(f\"Test data r-squared: {cb_model.score(X_test, Y_test)}\")"
      ],
      "metadata": {
        "colab": {
          "base_uri": "https://localhost:8080/"
        },
        "id": "RMFPeDdeQv3u",
        "outputId": "392912da-9c03-4b81-ba23-4c681c5f27b0"
      },
      "execution_count": null,
      "outputs": [
        {
          "output_type": "stream",
          "name": "stdout",
          "text": [
            "Training data r-squared: 0.9810613570697664\n",
            "Test data r-squared: 0.8788845175739622\n"
          ]
        }
      ]
    },
    {
      "cell_type": "code",
      "source": [
        "cb_model.get_best_score()"
      ],
      "metadata": {
        "colab": {
          "base_uri": "https://localhost:8080/"
        },
        "id": "fzr7PyVeQxMx",
        "outputId": "239b5f08-a56f-44c1-93ac-2981dab43c84"
      },
      "execution_count": null,
      "outputs": [
        {
          "output_type": "execute_result",
          "data": {
            "text/plain": [
              "{'learn': {'MAE': 223169.68169097317,\n",
              "  'R2': 0.9810613570697664,\n",
              "  'RMSE': 317745.2479095876},\n",
              " 'validation': {'MAE': 505729.3557650555,\n",
              "  'R2': 0.8788845175739622,\n",
              "  'RMSE': 797740.2721474923}}"
            ]
          },
          "metadata": {},
          "execution_count": 43
        }
      ]
    },
    {
      "cell_type": "markdown",
      "source": [
        "### LinearRegression"
      ],
      "metadata": {
        "id": "0Le60HOwzzTr"
      }
    },
    {
      "cell_type": "code",
      "source": [
        "from sklearn.linear_model import LinearRegression\n",
        "regr = LinearRegression()\n",
        "regr.fit(X_train, Y_train)"
      ],
      "metadata": {
        "id": "Lmds8ZahOErx"
      },
      "execution_count": null,
      "outputs": []
    },
    {
      "cell_type": "code",
      "source": [
        "from sklearn.metrics import mean_squared_error, median_absolute_error, r2_score\n",
        "y_pred = list(regr.predict(X_test))\n",
        "y_true = list(Y_test)\n",
        "RMSE = mean_squared_error(y_true, y_pred, squared=False)\n",
        "R2 = r2_score(y_true, y_pred)\n",
        "MAE = median_absolute_error(y_true, y_pred)"
      ],
      "metadata": {
        "id": "6pb43gDlifuK"
      },
      "execution_count": null,
      "outputs": []
    },
    {
      "cell_type": "code",
      "source": [
        "print(f\"R2: {R2}\")\n",
        "print(f\"MAE: {MAE}\")\n",
        "print(f\"RMSE: {RMSE}\")"
      ],
      "metadata": {
        "colab": {
          "base_uri": "https://localhost:8080/"
        },
        "id": "Rmz1uqWKkWwW",
        "outputId": "41eb1774-7db3-4b85-abd7-ecf956abb3ce"
      },
      "execution_count": null,
      "outputs": [
        {
          "output_type": "stream",
          "name": "stdout",
          "text": [
            "R2: 0.7194264629233006\n",
            "MAE: 607849.9004647722\n",
            "RMSE: 1214185.4908584424\n"
          ]
        }
      ]
    },
    {
      "cell_type": "markdown",
      "source": [
        "# Нейронка"
      ],
      "metadata": {
        "id": "ihQaDoRD_Zb2"
      }
    },
    {
      "cell_type": "code",
      "source": [
        "import tensorflow as tf\n",
        "from tensorflow import keras"
      ],
      "metadata": {
        "id": "fifcAHph_J0m"
      },
      "execution_count": null,
      "outputs": []
    },
    {
      "cell_type": "code",
      "source": [
        "from keras import backend as K\n",
        "\n",
        "def coeff_determination(y_true, y_pred):\n",
        "    SS_res =  K.sum(K.square(y_true - y_pred))\n",
        "    SS_tot = K.sum(K.square(y_true - K.mean(y_true)))\n",
        "    return (1 - SS_res/(SS_tot + K.epsilon()))\n",
        "\n",
        "\n",
        "model = keras.Sequential([\n",
        "    keras.layers.Dense(512, activation='relu', input_shape=[83]), # Входной слой\n",
        "    keras.layers.Dense(512, activation='relu'), # Скрытый слой\n",
        "    keras.layers.Dense(512, activation='relu'), # Скрытый слой\n",
        "    keras.layers.Dense(1) # Выходной слой\n",
        "])\n",
        "\n",
        "model.compile(loss='mean_squared_error',\n",
        "              optimizer=tf.keras.optimizers.Adam(0.001), metrics=[coeff_determination])\n",
        "\n",
        "history = model.fit(X_train, Y_train, epochs=300, batch_size=16, validation_data=(X_test, Y_test))"
      ],
      "metadata": {
        "id": "asvuxOjgH_dD"
      },
      "execution_count": null,
      "outputs": []
    },
    {
      "cell_type": "code",
      "source": [
        "y_pred = model.predict(X_test)\n",
        "y_true = [[i] for i in Y_test]\n",
        "R2 = model.evaluate(X_test, Y_test)[1]\n",
        "mse = tf.keras.losses.MeanSquaredError()\n",
        "RMSE = np.sqrt(mse(y_true, y_pred).numpy())\n",
        "mae = tf.keras.losses.MeanAbsoluteError()\n",
        "MAE = mae(y_true, y_pred).numpy()"
      ],
      "metadata": {
        "id": "UQALGFNwO3Uz"
      },
      "execution_count": null,
      "outputs": []
    },
    {
      "cell_type": "code",
      "source": [
        "print(f\"R2: {R2}\")\n",
        "print(f\"MAE: {MAE}\")\n",
        "print(f\"RMSE: {RMSE}\")"
      ],
      "metadata": {
        "colab": {
          "base_uri": "https://localhost:8080/"
        },
        "id": "Y5z_99eNYdHX",
        "outputId": "f18fd02a-6ee1-47df-c64c-9fb0cea42952"
      },
      "execution_count": null,
      "outputs": [
        {
          "output_type": "stream",
          "name": "stdout",
          "text": [
            "R2: 0.8061218857765198\n",
            "MAE: 635259.625\n",
            "RMSE: 972505.8125\n"
          ]
        }
      ]
    },
    {
      "cell_type": "code",
      "source": [
        "# Catboost\n",
        "# R2: 0.8788845175739622\n",
        "# MAE: 505729.3557650555\n",
        "# RMSE: 797740.2721474923"
      ],
      "metadata": {
        "id": "_6U569rvYzfc"
      },
      "execution_count": null,
      "outputs": []
    },
    {
      "cell_type": "code",
      "source": [
        "# RandomForestRegressor\n",
        "# R2: 0.8354310178025535\n",
        "# MAE: 293000.0\n",
        "# RMSE: 929898.7777799002"
      ],
      "metadata": {
        "id": "MF08_Njhqdup"
      },
      "execution_count": null,
      "outputs": []
    },
    {
      "cell_type": "code",
      "source": [
        "# Neural network\n",
        "# R2: 0.8061218857765198\n",
        "# MAE: 635259.625\n",
        "# RMSE: 972505.8125"
      ],
      "metadata": {
        "id": "NrC0v7a1nyPF"
      },
      "execution_count": null,
      "outputs": []
    },
    {
      "cell_type": "code",
      "source": [
        "# LinearRegression\n",
        "# R2: 0.7194264629233006\n",
        "# MAE: 607849.9004647722\n",
        "# RMSE: 1214185.4908584424"
      ],
      "metadata": {
        "id": "xb37AtH3k-Vc"
      },
      "execution_count": null,
      "outputs": []
    },
    {
      "cell_type": "code",
      "source": [
        "import matplotlib.pyplot as plt\n",
        "\n",
        "plt.plot( history.history['loss'][3:], label='Train Loss')\n",
        "plt.plot(history.history['val_loss'][3:], label='Validation Loss')\n",
        "plt.xlabel('Epoch')\n",
        "plt.ylabel('Loss')\n",
        "plt.legend()\n",
        "plt.show()"
      ],
      "metadata": {
        "id": "5P3pXCLN7HfM",
        "colab": {
          "base_uri": "https://localhost:8080/",
          "height": 465
        },
        "outputId": "79277439-b7af-4793-c5cc-8ee5277dba01"
      },
      "execution_count": null,
      "outputs": [
        {
          "output_type": "display_data",
          "data": {
            "text/plain": [
              "<Figure size 640x480 with 1 Axes>"
            ],
            "image/png": "[encoded data removed]"
          },
          "metadata": {}
        }
      ]
    },
    {
      "cell_type": "code",
      "source": [
        "plt.semilogy(history.history['coeff_determination'])\n",
        "plt.semilogy(history.history['val_coeff_determination'])\n",
        "plt.title('Model Loss')\n",
        "plt.ylabel('Loss')\n",
        "plt.xlabel('Epoch')\n",
        "plt.legend(['Train', 'Test'], loc='upper right')\n",
        "plt.show()"
      ],
      "metadata": {
        "id": "8mxyXYj0_ret",
        "colab": {
          "base_uri": "https://localhost:8080/",
          "height": 472
        },
        "outputId": "b791640d-be99-47a5-ee7e-8b71a06d21f7"
      },
      "execution_count": null,
      "outputs": [
        {
          "output_type": "display_data",
          "data": {
            "text/plain": [
              "<Figure size 640x480 with 1 Axes>"
            ],
            "image/png": "[encoded data removed]"
          },
          "metadata": {}
        }
      ]
    },
    {
      "cell_type": "markdown",
      "source": [
        "# Влияние года постройки дома на стоимость квартиры"
      ],
      "metadata": {
        "id": "FF947Zj0NW53"
      }
    },
    {
      "cell_type": "code",
      "source": [
        "!pip install requests"
      ],
      "metadata": {
        "id": "CrG4JklmgnlW"
      },
      "execution_count": null,
      "outputs": []
    },
    {
      "cell_type": "code",
      "source": [
        "import json"
      ],
      "metadata": {
        "id": "zx_dWWOz6KF1"
      },
      "execution_count": null,
      "outputs": []
    },
    {
      "cell_type": "code",
      "source": [
        "with open('/content/pred_data.txt', 'r') as file:\n",
        "  data_arr = list(json.loads(file.read()))"
      ],
      "metadata": {
        "id": "qPtiuRxjvE8K"
      },
      "execution_count": null,
      "outputs": []
    },
    {
      "cell_type": "code",
      "source": [
        "with open('/content/years.txt', 'r') as file:\n",
        "  years_arr = list(json.loads(file.read()))"
      ],
      "metadata": {
        "id": "NYQPH-90wNgo"
      },
      "execution_count": null,
      "outputs": []
    },
    {
      "cell_type": "code",
      "source": [
        "with open('/content/real_price.txt', 'r') as file:\n",
        "  real_price_arr = list(json.loads(file.read()))"
      ],
      "metadata": {
        "id": "B8Ocx_pRwJ6v"
      },
      "execution_count": null,
      "outputs": []
    },
    {
      "cell_type": "code",
      "source": [
        "dp = list(cb_model.predict(data_arr))"
      ],
      "metadata": {
        "id": "VNE-n6XAa60Z"
      },
      "execution_count": null,
      "outputs": []
    },
    {
      "cell_type": "code",
      "source": [
        "df = pd.DataFrame(columns=['year', 'percent'])"
      ],
      "metadata": {
        "id": "kC_C5b8dNqE3"
      },
      "execution_count": null,
      "outputs": []
    },
    {
      "cell_type": "code",
      "source": [
        "for i in range(len(data_arr)):\n",
        "  df.loc[len(df)] = [years_arr[i], ((real_price_arr[i]-dp[i]) / dp[i]) * 100]"
      ],
      "metadata": {
        "id": "Kj4s2WnUny-M"
      },
      "execution_count": null,
      "outputs": []
    },
    {
      "cell_type": "code",
      "source": [
        "df.shape"
      ],
      "metadata": {
        "colab": {
          "base_uri": "https://localhost:8080/"
        },
        "id": "qP2KN0c-mswb",
        "outputId": "8391d61e-c7fd-48e0-fe99-4c0795697a7f"
      },
      "execution_count": null,
      "outputs": [
        {
          "output_type": "execute_result",
          "data": {
            "text/plain": [
              "(3769, 2)"
            ]
          },
          "metadata": {},
          "execution_count": 21
        }
      ]
    },
    {
      "cell_type": "code",
      "source": [
        "df = df.groupby(['year']).mean()"
      ],
      "metadata": {
        "id": "ExH-HZu_qInI"
      },
      "execution_count": null,
      "outputs": []
    },
    {
      "cell_type": "code",
      "source": [
        "import matplotlib.pyplot as plt\n",
        "\n",
        "plt.plot(list(df.index.values), list(df.percent.values))\n",
        "plt.ylim([-20, 100])\n",
        "plt.xlabel('Год постройки объекта')\n",
        "plt.ylabel('Процент ошибки модели')\n",
        "plt.show()\n",
        "# График показывающий на сколько процентов нужно изменить предсказанное значение"
      ],
      "metadata": {
        "colab": {
          "base_uri": "https://localhost:8080/",
          "height": 455
        },
        "id": "S-1V3KjFy4MP",
        "outputId": "de6bed8a-9973-4b22-8298-3c46ea918fba"
      },
      "execution_count": null,
      "outputs": [
        {
          "output_type": "display_data",
          "data": {
            "text/plain": [
              "<Figure size 640x480 with 1 Axes>"
            ],
            "image/png": "[encoded data removed]"
          },
          "metadata": {}
        }
      ]
    },
    {
      "cell_type": "code",
      "source": [
        "d = dict()\n",
        "for year, row in df.iterrows():\n",
        "    if (int(year) - 1980) <= 0:\n",
        "      coef = 1 + abs(int(year) - 1980) * 0.75 / 100\n",
        "    else:\n",
        "      if int(year) in range(2000, 2015):\n",
        "        coef = 1.1 + abs(int(year) - 1980) / 100\n",
        "      else:\n",
        "        coef = 1 + abs(int(year) - 1980) * 0.55 / 100\n",
        "\n",
        "\n",
        "    d.update({int(year): coef})"
      ],
      "metadata": {
        "id": "U66ZbQ_h-0Bg"
      },
      "execution_count": null,
      "outputs": []
    },
    {
      "cell_type": "code",
      "source": [
        "df = pd.DataFrame(columns=['year', 'percent'])"
      ],
      "metadata": {
        "id": "VPEdcj3uM5NP"
      },
      "execution_count": null,
      "outputs": []
    },
    {
      "cell_type": "code",
      "source": [
        "for i in range(len(data_arr)):\n",
        "  predicted_price = dp[i] * d.get(int(years_arr[i]))\n",
        "  df.loc[len(df)] = [years_arr[i], ((real_price_arr[i]-predicted_price) / predicted_price) * 100]"
      ],
      "metadata": {
        "id": "xo8PnP7LL74E"
      },
      "execution_count": null,
      "outputs": []
    },
    {
      "cell_type": "code",
      "source": [
        "df = df.groupby(['year']).mean()"
      ],
      "metadata": {
        "id": "d8-1-LBpL74F"
      },
      "execution_count": null,
      "outputs": []
    },
    {
      "cell_type": "code",
      "source": [
        "import matplotlib.pyplot as plt\n",
        "\n",
        "plt.plot(list(df.index.values), list(df.percent.values))\n",
        "plt.ylim([-20, 100])\n",
        "plt.xlabel('Год постройки объекта')\n",
        "plt.ylabel('Процент ошибки модели')\n",
        "plt.show()"
      ],
      "metadata": {
        "colab": {
          "base_uri": "https://localhost:8080/",
          "height": 455
        },
        "id": "mc_JVmDmkK8x",
        "outputId": "3333f1a1-69cd-4f96-de9f-e34e2ede583b"
      },
      "execution_count": null,
      "outputs": [
        {
          "output_type": "display_data",
          "data": {
            "text/plain": [
              "<Figure size 640x480 with 1 Axes>"
            ],
            "image/png": "[encoded data removed]"
          },
          "metadata": {}
        }
      ]
    }
  ],
  "metadata": {
    "colab": {
      "provenance": []
    },
    "kernelspec": {
      "display_name": "Python 3",
      "name": "python3"
    },
    "language_info": {
      "name": "python"
    },
    "gpuClass": "standard",
    "accelerator": "GPU"
  },
  "nbformat": 4,
  "nbformat_minor": 0
}